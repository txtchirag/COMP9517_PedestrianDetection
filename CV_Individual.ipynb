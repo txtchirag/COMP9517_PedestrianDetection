{
  "nbformat": 4,
  "nbformat_minor": 0,
  "metadata": {
    "colab": {
      "name": "CV_Individual.ipynb",
      "provenance": [],
      "collapsed_sections": []
    },
    "kernelspec": {
      "name": "python3",
      "display_name": "Python 3"
    },
    "accelerator": "GPU"
  },
  "cells": [
    {
      "cell_type": "code",
      "metadata": {
        "id": "GD-JFojYyjd6",
        "colab_type": "code",
        "outputId": "101f2066-eeef-4b41-d66a-686325e7a29c",
        "colab": {
          "base_uri": "https://localhost:8080/",
          "height": 188
        }
      },
      "source": [
        "!pip install ipython-autotime\n",
        "\n",
        "%load_ext autotime"
      ],
      "execution_count": 2,
      "outputs": [
        {
          "output_type": "stream",
          "text": [
            "Collecting ipython-autotime\n",
            "  Downloading https://files.pythonhosted.org/packages/e6/f9/0626bbdb322e3a078d968e87e3b01341e7890544de891d0cb613641220e6/ipython-autotime-0.1.tar.bz2\n",
            "Building wheels for collected packages: ipython-autotime\n",
            "  Building wheel for ipython-autotime (setup.py) ... \u001b[?25l\u001b[?25hdone\n",
            "  Created wheel for ipython-autotime: filename=ipython_autotime-0.1-cp36-none-any.whl size=1832 sha256=2467b02ac81f371fba78a3acf2d3e7cf48af307e80954ddef712ba5a668924d2\n",
            "  Stored in directory: /root/.cache/pip/wheels/d2/df/81/2db1e54bc91002cec40334629bc39cfa86dff540b304ebcd6e\n",
            "Successfully built ipython-autotime\n",
            "Installing collected packages: ipython-autotime\n",
            "Successfully installed ipython-autotime-0.1\n"
          ],
          "name": "stdout"
        }
      ]
    },
    {
      "cell_type": "code",
      "metadata": {
        "id": "Mp7xSMZmL_wx",
        "colab_type": "code",
        "outputId": "db1902d0-859c-43f3-97aa-64c7287a769a",
        "colab": {
          "base_uri": "https://localhost:8080/",
          "height": 34
        }
      },
      "source": [
        "import cv2\n",
        "import numpy as np\n",
        "import pandas as pd\n",
        "\n",
        "import matplotlib.pyplot as plt\n",
        "import matplotlib.image as mpimg\n",
        "import numpy as np\n",
        "from sklearn.metrics import classification_report\n",
        "from sklearn import metrics\n",
        "\n",
        "from sklearn.neighbors import KNeighborsClassifier\n",
        "from sklearn.linear_model import SGDClassifier\n",
        "from sklearn.tree import DecisionTreeClassifier\n",
        "from sklearn.metrics import accuracy_score\n",
        "\n",
        "from scipy import ndimage as ndi\n",
        "from skimage.morphology import watershed\n",
        "from skimage.feature import peak_local_max\n",
        "from sklearn.cluster import MeanShift\n",
        "from skimage.feature import hog\n",
        "\n",
        "from sklearn.svm import SVC\n",
        "from sklearn.svm import LinearSVC\n",
        "from sklearn.model_selection import GridSearchCV\n",
        "from sklearn.metrics import roc_curve\n",
        "from sklearn.metrics import auc\n",
        "\n",
        "from PIL import Image\n",
        "\n",
        "from google.colab.patches import cv2_imshow\n",
        "import os\n"
      ],
      "execution_count": 3,
      "outputs": [
        {
          "output_type": "stream",
          "text": [
            "time: 1.7 s\n"
          ],
          "name": "stdout"
        }
      ]
    },
    {
      "cell_type": "code",
      "metadata": {
        "id": "Xm3yc04HME8r",
        "colab_type": "code",
        "outputId": "b373d803-68c5-48c6-85e0-824a7fd4ac92",
        "colab": {
          "base_uri": "https://localhost:8080/",
          "height": 34
        }
      },
      "source": [
        "!unzip -q -n \"/content/drive/My Drive/Individual_Component.zip\" "
      ],
      "execution_count": 5,
      "outputs": [
        {
          "output_type": "stream",
          "text": [
            "time: 34.2 s\n"
          ],
          "name": "stdout"
        }
      ]
    },
    {
      "cell_type": "code",
      "metadata": {
        "id": "BvGFBV8MN8IO",
        "colab_type": "code",
        "colab": {}
      },
      "source": [
        ""
      ],
      "execution_count": 0,
      "outputs": []
    },
    {
      "cell_type": "code",
      "metadata": {
        "id": "iQmCK-tIN-oG",
        "colab_type": "code",
        "outputId": "774b1ddf-d8fe-4c9b-c30e-4b01f30f3dee",
        "colab": {
          "base_uri": "https://localhost:8080/"
        }
      },
      "source": [
        "Xtest=[]\n",
        "Ytest=[]\n",
        "Xtrain=[]\n",
        "Ytrain=[]\n",
        "rootdir=\"/content/Individual_Component/\"\n",
        "for subdir, dirs, files in os.walk(rootdir):\n",
        "  for file in files:\n",
        "    if file.endswith(\".pnm\"):\n",
        "      if 'train' in subdir:\n",
        "        if 'positive' in subdir:\n",
        "          img=cv2.imread(os.path.join(subdir, file),0)\n",
        "          fd, _ = hog(img, orientations=9, pixels_per_cell=(8, 8),cells_per_block=(2, 2), visualize=True)\n",
        "          Xtrain.append(fd)\n",
        "          Ytrain.append(1)\n",
        "          \n",
        "        elif 'negative' in subdir:\n",
        "          img=cv2.imread(os.path.join(subdir, file),0)\n",
        "          fd, _ = hog(img, orientations=9, pixels_per_cell=(8, 8),cells_per_block=(2, 2), visualize=True)\n",
        "          Xtrain.append(fd)\n",
        "          Ytrain.append(0)      \n",
        "\n",
        "      elif 'test' in subdir:\n",
        "        if 'positive' in subdir:\n",
        "          img=cv2.imread(os.path.join(subdir, file),0)\n",
        "          fd, _ = hog(img, orientations=9, pixels_per_cell=(8, 8),cells_per_block=(2, 2), visualize=True)\n",
        "          Xtest.append(fd)\n",
        "          Ytest.append(1)\n",
        "\n",
        "        elif 'negative' in subdir:\n",
        "          img=cv2.imread(os.path.join(subdir, file),0)\n",
        "          fd, _ = hog(img, orientations=9, pixels_per_cell=(8, 8),cells_per_block=(2, 2), visualize=True)\n",
        "          Xtest.append(fd)\n",
        "          Ytest.append(0)\n",
        "          \n",
        "\n",
        "X_train=np.array(Xtrain)\n",
        "y_train=np.array(Ytrain)       \n",
        "X_test=np.array(Xtest)\n",
        "y_test=np.array(Ytest)\n",
        "X_train.shape, X_test.shape, y_train.shape, y_test.shape"
      ],
      "execution_count": 0,
      "outputs": [
        {
          "output_type": "execute_result",
          "data": {
            "text/plain": [
              "((72114, 2268), (9457, 2268), (72114,), (9457,))"
            ]
          },
          "metadata": {
            "tags": []
          },
          "execution_count": 12
        },
        {
          "output_type": "stream",
          "text": [
            "time: 21min 3s\n"
          ],
          "name": "stdout"
        }
      ]
    },
    {
      "cell_type": "code",
      "metadata": {
        "id": "TcUeC8ppRnJF",
        "colab_type": "code",
        "outputId": "b96c04f2-c0ec-4a7f-d9c4-440488ef4750",
        "colab": {
          "base_uri": "https://localhost:8080/",
          "height": 34
        }
      },
      "source": [
        "np.savez(\"/content/drive/My Drive/ind_data.npz\" , X_train, y_train,X_test,y_test)"
      ],
      "execution_count": 0,
      "outputs": [
        {
          "output_type": "stream",
          "text": [
            "time: 7.04 s\n"
          ],
          "name": "stdout"
        }
      ]
    },
    {
      "cell_type": "code",
      "metadata": {
        "id": "1pzWPtF8Yb7J",
        "colab_type": "code",
        "outputId": "9c3af53c-6349-43b9-e4bf-d0ea504fc763",
        "colab": {
          "base_uri": "https://localhost:8080/",
          "height": 34
        }
      },
      "source": [
        "npzfile = np.load(\"/content/drive/My Drive/ind_data.npz\")\n",
        "\n",
        "X_train, y_train, X_test, y_test =npzfile.f.arr_0,npzfile.f.arr_1,npzfile.f.arr_2,npzfile.f.arr_3\n"
      ],
      "execution_count": 4,
      "outputs": [
        {
          "output_type": "stream",
          "text": [
            "time: 17.2 s\n"
          ],
          "name": "stdout"
        }
      ]
    },
    {
      "cell_type": "code",
      "metadata": {
        "id": "PydK2vrQU3lz",
        "colab_type": "code",
        "colab": {
          "base_uri": "https://localhost:8080/",
          "height": 34
        },
        "outputId": "73ec0d77-cdae-41cf-b672-53ec407e189a"
      },
      "source": [
        "cv2.imread(\"/content/Individual_Component/test/test_negative/00000000/item_00000001.pnm\",0).shape"
      ],
      "execution_count": 6,
      "outputs": [
        {
          "output_type": "execute_result",
          "data": {
            "text/plain": [
              "(80, 64)"
            ]
          },
          "metadata": {
            "tags": []
          },
          "execution_count": 6
        },
        {
          "output_type": "stream",
          "text": [
            "time: 25.4 ms\n"
          ],
          "name": "stdout"
        }
      ]
    },
    {
      "cell_type": "code",
      "metadata": {
        "id": "HB6N0r89P9La",
        "colab_type": "code",
        "outputId": "fea1ca1a-207a-411d-d267-d9fd690ddb06",
        "colab": {
          "base_uri": "https://localhost:8080/",
          "height": 692
        }
      },
      "source": [
        "\n",
        "\n",
        "clf=LinearSVC(max_iter=10000)\n",
        "clf = clf.fit(X_train, y_train)\n",
        "y_pred = clf.predict(X_test)\n",
        "\n",
        "\n",
        "print(\"Accuracy: \",accuracy_score(y_test, y_pred))\n",
        "print('\\n')\n",
        "print(classification_report(y_test, y_pred))\n",
        "\n",
        "\n",
        "dtcclf=DecisionTreeClassifier()\n",
        "\n",
        "dtcclf = dtcclf.fit(X_train, y_train)\n",
        "y_pred = dtcclf.predict(X_test)\n",
        "\n",
        "\n",
        "print(\"Accuracy: \",accuracy_score(y_test, y_pred))\n",
        "print('\\n')\n",
        "print(classification_report(y_test, y_pred))\n",
        "\n",
        "\n",
        "\n",
        "\n",
        "SGDClassifierclf=SGDClassifier()\n",
        "\n",
        "SGDClassifierclf = SGDClassifierclf.fit(X_train, y_train)\n",
        "y_pred = SGDClassifierclf.predict(X_test)\n",
        "\n",
        "\n",
        "print(\"Accuracy: \",accuracy_score(y_test, y_pred))\n",
        "print('\\n')\n",
        "print(classification_report(y_test, y_pred))\n"
      ],
      "execution_count": 0,
      "outputs": [
        {
          "output_type": "stream",
          "text": [
            "/usr/local/lib/python3.6/dist-packages/sklearn/svm/_base.py:947: ConvergenceWarning: Liblinear failed to converge, increase the number of iterations.\n",
            "  \"the number of iterations.\", ConvergenceWarning)\n"
          ],
          "name": "stderr"
        },
        {
          "output_type": "stream",
          "text": [
            "Accuracy:  0.984032991434916\n",
            "\n",
            "\n",
            "              precision    recall  f1-score   support\n",
            "\n",
            "           0       0.99      0.99      0.99      6000\n",
            "           1       0.98      0.98      0.98      3457\n",
            "\n",
            "    accuracy                           0.98      9457\n",
            "   macro avg       0.98      0.98      0.98      9457\n",
            "weighted avg       0.98      0.98      0.98      9457\n",
            "\n",
            "Accuracy:  0.9240774029819182\n",
            "\n",
            "\n",
            "              precision    recall  f1-score   support\n",
            "\n",
            "           0       0.94      0.94      0.94      6000\n",
            "           1       0.90      0.90      0.90      3457\n",
            "\n",
            "    accuracy                           0.92      9457\n",
            "   macro avg       0.92      0.92      0.92      9457\n",
            "weighted avg       0.92      0.92      0.92      9457\n",
            "\n",
            "Accuracy:  0.9819181558633816\n",
            "\n",
            "\n",
            "              precision    recall  f1-score   support\n",
            "\n",
            "           0       0.98      1.00      0.99      6000\n",
            "           1       0.99      0.96      0.97      3457\n",
            "\n",
            "    accuracy                           0.98      9457\n",
            "   macro avg       0.98      0.98      0.98      9457\n",
            "weighted avg       0.98      0.98      0.98      9457\n",
            "\n",
            "time: 8min 50s\n"
          ],
          "name": "stdout"
        }
      ]
    },
    {
      "cell_type": "code",
      "metadata": {
        "id": "UyVizemeM1i9",
        "colab_type": "code",
        "outputId": "a118f20e-69a5-4e70-e144-d52c47c27fa4",
        "colab": {
          "base_uri": "https://localhost:8080/",
          "height": 34
        }
      },
      "source": [
        "X_train.shape, X_test.shape, y_train.shape, y_test.shape\n"
      ],
      "execution_count": 0,
      "outputs": [
        {
          "output_type": "execute_result",
          "data": {
            "text/plain": [
              "((72114, 2268), (9457, 2268), (72114,), (9457,))"
            ]
          },
          "metadata": {
            "tags": []
          },
          "execution_count": 12
        },
        {
          "output_type": "stream",
          "text": [
            "time: 3.35 ms\n"
          ],
          "name": "stdout"
        }
      ]
    },
    {
      "cell_type": "code",
      "metadata": {
        "id": "qDtb0ycFViPu",
        "colab_type": "code",
        "outputId": "cb0b355c-8988-40d4-ef07-563a034be11d",
        "colab": {
          "base_uri": "https://localhost:8080/",
          "height": 514
        }
      },
      "source": [
        "\n",
        "SVCclf=SVC(kernel='linear',probability=True,gamma='auto')\n",
        "\n",
        "SVCclf = SVCclf.fit(X_train, y_train)\n",
        "y_pred = SVCclf.predict(X_test)\n",
        "\n",
        "\n",
        "print(\"Accuracy: \",accuracy_score(y_test, y_pred))\n",
        "print('\\n')\n",
        "print(classification_report(y_test, y_pred,))\n",
        "\n",
        "from sklearn.metrics import roc_curve\n",
        "from sklearn.metrics import auc\n",
        "\n",
        "# Compute fpr, tpr, thresholds and roc auc\n",
        "fpr, tpr, thresholds = roc_curve(y_test, SVCclf.predict_proba(X_test)[:,1])\n",
        "roc_auc =  auc(fpr, tpr)\n",
        "\n",
        "# Plot ROC curve\n",
        "plt.figure()\n",
        "plt.plot(fpr, tpr, label='ROC curve (area = %0.3f)' % roc_auc)\n",
        "plt.plot([0, 1], [0, 1], 'k--')  # random predictions curve\n",
        "plt.xlim([0.0, 1.0])\n",
        "plt.ylim([0.0, 1.0])\n",
        "plt.xlabel('False Positive Rate or (1 - Specifity)')\n",
        "plt.ylabel('True Positive Rate or (Sensitivity)')\n",
        "plt.title('Receiver Operating Characteristic')\n",
        "plt.legend(loc=\"lower right\")\n",
        "plt.show()"
      ],
      "execution_count": 0,
      "outputs": [
        {
          "output_type": "stream",
          "text": [
            "Accuracy:  0.9860420852278735\n",
            "\n",
            "\n",
            "              precision    recall  f1-score   support\n",
            "\n",
            "           0       0.99      0.99      0.99      6000\n",
            "           1       0.98      0.98      0.98      3457\n",
            "\n",
            "    accuracy                           0.99      9457\n",
            "   macro avg       0.99      0.98      0.98      9457\n",
            "weighted avg       0.99      0.99      0.99      9457\n",
            "\n"
          ],
          "name": "stdout"
        },
        {
          "output_type": "display_data",
          "data": {
            "image/png": "[encoded data removed]",
            "text/plain": [
              "<Figure size 432x288 with 1 Axes>"
            ]
          },
          "metadata": {
            "tags": []
          }
        },
        {
          "output_type": "stream",
          "text": [
            "time: 2h 59min 29s\n"
          ],
          "name": "stdout"
        }
      ]
    },
    {
      "cell_type": "code",
      "metadata": {
        "id": "uJzEMY7nMnqD",
        "colab_type": "code",
        "outputId": "871810ec-076f-40c7-c7d9-74a918a471a7",
        "colab": {
          "base_uri": "https://localhost:8080/",
          "height": 235
        }
      },
      "source": [
        "\n",
        "\n",
        "clf=LinearSVC(max_iter=20000)\n",
        "y_margins = clf.fit(X_train, y_train).decision_function(X_test)\n",
        "y_pred = clf.predict(X_test)\n",
        "y_prob = (y_margins - y_margins.min()) / (y_margins.max() - y_margins.min())\n",
        "\n",
        "print(\"Accuracy: \",accuracy_score(y_test, y_pred))\n",
        "print('\\n')\n",
        "print(classification_report(y_test, y_pred))\n",
        "\n",
        "\n",
        "\n"
      ],
      "execution_count": 0,
      "outputs": [
        {
          "output_type": "stream",
          "text": [
            "Accuracy:  0.984032991434916\n",
            "\n",
            "\n",
            "              precision    recall  f1-score   support\n",
            "\n",
            "           0       0.99      0.99      0.99      6000\n",
            "           1       0.98      0.98      0.98      3457\n",
            "\n",
            "    accuracy                           0.98      9457\n",
            "   macro avg       0.98      0.98      0.98      9457\n",
            "weighted avg       0.98      0.98      0.98      9457\n",
            "\n",
            "time: 1min 1s\n"
          ],
          "name": "stdout"
        }
      ]
    },
    {
      "cell_type": "code",
      "metadata": {
        "id": "oSVuq51nPFMk",
        "colab_type": "code",
        "outputId": "d6cc671f-c272-45a6-ad21-df10f7d1cfb2",
        "colab": {
          "base_uri": "https://localhost:8080/",
          "height": 312
        }
      },
      "source": [
        "# Compute fpr, tpr, thresholds and roc auc\n",
        "fpr, tpr, thresholds = roc_curve(y_test, clf.decision_function(X_test))\n",
        "roc_auc =  auc(fpr, tpr)\n",
        "\n",
        "# Plot ROC curve\n",
        "plt.figure()\n",
        "plt.plot(fpr, tpr, label='ROC curve (area = %0.3f)' % roc_auc)\n",
        "plt.plot([0, 1], [0, 1], 'k--')  # random predictions curve\n",
        "plt.xlim([0.0, 1.0])\n",
        "plt.ylim([0.0, 1.0])\n",
        "plt.xlabel('False Positive Rate or (1 - Specifity)')\n",
        "plt.ylabel('True Positive Rate or (Sensitivity)')\n",
        "plt.title('Receiver Operating Characteristic')\n",
        "plt.legend(loc=\"lower right\")\n",
        "plt.show()"
      ],
      "execution_count": 0,
      "outputs": [
        {
          "output_type": "display_data",
          "data": {
            "image/png": "[encoded data removed]",
            "text/plain": [
              "<Figure size 432x288 with 1 Axes>"
            ]
          },
          "metadata": {
            "tags": []
          }
        },
        {
          "output_type": "stream",
          "text": [
            "time: 199 ms\n"
          ],
          "name": "stdout"
        }
      ]
    },
    {
      "cell_type": "code",
      "metadata": {
        "id": "Bq94WNF3UuRh",
        "colab_type": "code",
        "outputId": "c7ee9981-8d4c-490b-9b3a-e47e3f2d861c",
        "colab": {
          "base_uri": "https://localhost:8080/",
          "height": 1000
        }
      },
      "source": [
        "fpr, tpr"
      ],
      "execution_count": 0,
      "outputs": [
        {
          "output_type": "execute_result",
          "data": {
            "text/plain": [
              "(array([0.00000000e+00, 0.00000000e+00, 0.00000000e+00, 1.66666667e-04,\n",
              "        1.66666667e-04, 3.33333333e-04, 3.33333333e-04, 5.00000000e-04,\n",
              "        5.00000000e-04, 6.66666667e-04, 6.66666667e-04, 8.33333333e-04,\n",
              "        8.33333333e-04, 1.00000000e-03, 1.00000000e-03, 1.16666667e-03,\n",
              "        1.16666667e-03, 1.33333333e-03, 1.33333333e-03, 1.50000000e-03,\n",
              "        1.50000000e-03, 1.66666667e-03, 1.66666667e-03, 1.83333333e-03,\n",
              "        1.83333333e-03, 2.00000000e-03, 2.00000000e-03, 2.16666667e-03,\n",
              "        2.16666667e-03, 2.33333333e-03, 2.33333333e-03, 2.66666667e-03,\n",
              "        2.66666667e-03, 2.83333333e-03, 2.83333333e-03, 3.00000000e-03,\n",
              "        3.00000000e-03, 3.16666667e-03, 3.16666667e-03, 3.33333333e-03,\n",
              "        3.33333333e-03, 3.50000000e-03, 3.50000000e-03, 3.66666667e-03,\n",
              "        3.66666667e-03, 4.16666667e-03, 4.16666667e-03, 4.50000000e-03,\n",
              "        4.50000000e-03, 4.66666667e-03, 4.66666667e-03, 5.00000000e-03,\n",
              "        5.00000000e-03, 5.33333333e-03, 5.33333333e-03, 5.50000000e-03,\n",
              "        5.50000000e-03, 5.83333333e-03, 5.83333333e-03, 6.00000000e-03,\n",
              "        6.00000000e-03, 6.16666667e-03, 6.16666667e-03, 6.33333333e-03,\n",
              "        6.33333333e-03, 6.50000000e-03, 6.50000000e-03, 6.66666667e-03,\n",
              "        6.66666667e-03, 6.83333333e-03, 6.83333333e-03, 7.00000000e-03,\n",
              "        7.00000000e-03, 7.16666667e-03, 7.16666667e-03, 7.33333333e-03,\n",
              "        7.33333333e-03, 7.66666667e-03, 7.66666667e-03, 7.83333333e-03,\n",
              "        7.83333333e-03, 8.00000000e-03, 8.00000000e-03, 8.16666667e-03,\n",
              "        8.16666667e-03, 8.33333333e-03, 8.33333333e-03, 8.50000000e-03,\n",
              "        8.50000000e-03, 8.66666667e-03, 8.66666667e-03, 9.00000000e-03,\n",
              "        9.00000000e-03, 9.33333333e-03, 9.33333333e-03, 9.50000000e-03,\n",
              "        9.50000000e-03, 1.01666667e-02, 1.01666667e-02, 1.05000000e-02,\n",
              "        1.05000000e-02, 1.06666667e-02, 1.06666667e-02, 1.15000000e-02,\n",
              "        1.15000000e-02, 1.20000000e-02, 1.20000000e-02, 1.21666667e-02,\n",
              "        1.21666667e-02, 1.23333333e-02, 1.23333333e-02, 1.28333333e-02,\n",
              "        1.28333333e-02, 1.41666667e-02, 1.41666667e-02, 1.46666667e-02,\n",
              "        1.46666667e-02, 1.48333333e-02, 1.48333333e-02, 1.56666667e-02,\n",
              "        1.56666667e-02, 1.58333333e-02, 1.58333333e-02, 1.65000000e-02,\n",
              "        1.65000000e-02, 1.71666667e-02, 1.71666667e-02, 1.76666667e-02,\n",
              "        1.76666667e-02, 1.78333333e-02, 1.78333333e-02, 1.80000000e-02,\n",
              "        1.80000000e-02, 1.85000000e-02, 1.85000000e-02, 1.88333333e-02,\n",
              "        1.88333333e-02, 2.08333333e-02, 2.08333333e-02, 2.10000000e-02,\n",
              "        2.10000000e-02, 2.13333333e-02, 2.13333333e-02, 2.15000000e-02,\n",
              "        2.15000000e-02, 2.21666667e-02, 2.21666667e-02, 2.28333333e-02,\n",
              "        2.28333333e-02, 2.33333333e-02, 2.33333333e-02, 2.36666667e-02,\n",
              "        2.36666667e-02, 2.40000000e-02, 2.40000000e-02, 2.45000000e-02,\n",
              "        2.45000000e-02, 2.48333333e-02, 2.48333333e-02, 2.63333333e-02,\n",
              "        2.63333333e-02, 2.68333333e-02, 2.68333333e-02, 2.70000000e-02,\n",
              "        2.70000000e-02, 2.73333333e-02, 2.73333333e-02, 2.78333333e-02,\n",
              "        2.78333333e-02, 2.90000000e-02, 2.90000000e-02, 2.91666667e-02,\n",
              "        2.91666667e-02, 3.08333333e-02, 3.08333333e-02, 3.13333333e-02,\n",
              "        3.13333333e-02, 3.23333333e-02, 3.23333333e-02, 3.36666667e-02,\n",
              "        3.36666667e-02, 3.38333333e-02, 3.38333333e-02, 3.78333333e-02,\n",
              "        3.78333333e-02, 3.80000000e-02, 3.80000000e-02, 3.86666667e-02,\n",
              "        3.86666667e-02, 3.96666667e-02, 3.96666667e-02, 4.10000000e-02,\n",
              "        4.10000000e-02, 4.43333333e-02, 4.43333333e-02, 4.53333333e-02,\n",
              "        4.53333333e-02, 4.58333333e-02, 4.58333333e-02, 4.65000000e-02,\n",
              "        4.65000000e-02, 4.68333333e-02, 4.68333333e-02, 4.86666667e-02,\n",
              "        4.86666667e-02, 5.13333333e-02, 5.13333333e-02, 5.81666667e-02,\n",
              "        5.81666667e-02, 6.16666667e-02, 6.16666667e-02, 6.46666667e-02,\n",
              "        6.46666667e-02, 6.65000000e-02, 6.65000000e-02, 6.75000000e-02,\n",
              "        6.75000000e-02, 7.01666667e-02, 7.01666667e-02, 7.03333333e-02,\n",
              "        7.03333333e-02, 8.25000000e-02, 8.25000000e-02, 9.15000000e-02,\n",
              "        9.15000000e-02, 9.98333333e-02, 9.98333333e-02, 1.01333333e-01,\n",
              "        1.01333333e-01, 1.04500000e-01, 1.04500000e-01, 1.06333333e-01,\n",
              "        1.06333333e-01, 1.49166667e-01, 1.49166667e-01, 1.58000000e-01,\n",
              "        1.58000000e-01, 1.74500000e-01, 1.74500000e-01, 1.77500000e-01,\n",
              "        1.77500000e-01, 1.93833333e-01, 1.93833333e-01, 2.10833333e-01,\n",
              "        2.10833333e-01, 9.82333333e-01, 9.87666667e-01, 1.00000000e+00]),\n",
              " array([0.00000000e+00, 2.89268152e-04, 5.01012439e-01, 5.01012439e-01,\n",
              "        8.01272780e-01, 8.01272780e-01, 8.22967891e-01, 8.22967891e-01,\n",
              "        8.35695690e-01, 8.35695690e-01, 8.49869829e-01, 8.49869829e-01,\n",
              "        8.51894706e-01, 8.51894706e-01, 8.81978594e-01, 8.81978594e-01,\n",
              "        8.82267862e-01, 8.82267862e-01, 8.84003471e-01, 8.84003471e-01,\n",
              "        9.03384437e-01, 9.03384437e-01, 9.07144923e-01, 9.07144923e-01,\n",
              "        9.14665895e-01, 9.14665895e-01, 9.21897599e-01, 9.21897599e-01,\n",
              "        9.22765404e-01, 9.22765404e-01, 9.26236621e-01, 9.26236621e-01,\n",
              "        9.27393694e-01, 9.27393694e-01, 9.29707839e-01, 9.29707839e-01,\n",
              "        9.30864912e-01, 9.30864912e-01, 9.32021984e-01, 9.32021984e-01,\n",
              "        9.45906856e-01, 9.45906856e-01, 9.48510269e-01, 9.48510269e-01,\n",
              "        9.49956610e-01, 9.49956610e-01, 9.51113682e-01, 9.51113682e-01,\n",
              "        9.54295632e-01, 9.54295632e-01, 9.56031241e-01, 9.56031241e-01,\n",
              "        9.56320509e-01, 9.56320509e-01, 9.56609777e-01, 9.56609777e-01,\n",
              "        9.58056118e-01, 9.58056118e-01, 9.58345386e-01, 9.58345386e-01,\n",
              "        9.59502459e-01, 9.59502459e-01, 9.59791727e-01, 9.59791727e-01,\n",
              "        9.60370263e-01, 9.60370263e-01, 9.60948800e-01, 9.60948800e-01,\n",
              "        9.61238068e-01, 9.61238068e-01, 9.61527336e-01, 9.61527336e-01,\n",
              "        9.64420017e-01, 9.64420017e-01, 9.64998554e-01, 9.64998554e-01,\n",
              "        9.67023431e-01, 9.67023431e-01, 9.67601967e-01, 9.67601967e-01,\n",
              "        9.67891235e-01, 9.67891235e-01, 9.68180503e-01, 9.68180503e-01,\n",
              "        9.69048308e-01, 9.69048308e-01, 9.69626844e-01, 9.69626844e-01,\n",
              "        9.70205380e-01, 9.70205380e-01, 9.71940989e-01, 9.71940989e-01,\n",
              "        9.72230257e-01, 9.72230257e-01, 9.73098062e-01, 9.73098062e-01,\n",
              "        9.74544403e-01, 9.74544403e-01, 9.74833671e-01, 9.74833671e-01,\n",
              "        9.75122939e-01, 9.75122939e-01, 9.75701475e-01, 9.75701475e-01,\n",
              "        9.76280012e-01, 9.76280012e-01, 9.77147816e-01, 9.77147816e-01,\n",
              "        9.77437084e-01, 9.77437084e-01, 9.78015620e-01, 9.78015620e-01,\n",
              "        9.78883425e-01, 9.78883425e-01, 9.79172693e-01, 9.79172693e-01,\n",
              "        9.79461961e-01, 9.79461961e-01, 9.79751229e-01, 9.79751229e-01,\n",
              "        9.80040498e-01, 9.80040498e-01, 9.80329766e-01, 9.80329766e-01,\n",
              "        9.80908302e-01, 9.80908302e-01, 9.81197570e-01, 9.81197570e-01,\n",
              "        9.81776106e-01, 9.81776106e-01, 9.82065375e-01, 9.82065375e-01,\n",
              "        9.82354643e-01, 9.82354643e-01, 9.82643911e-01, 9.82643911e-01,\n",
              "        9.83222447e-01, 9.83222447e-01, 9.83511715e-01, 9.83511715e-01,\n",
              "        9.83800984e-01, 9.83800984e-01, 9.84090252e-01, 9.84090252e-01,\n",
              "        9.84379520e-01, 9.84379520e-01, 9.84668788e-01, 9.84668788e-01,\n",
              "        9.84958056e-01, 9.84958056e-01, 9.85247324e-01, 9.85247324e-01,\n",
              "        9.85536592e-01, 9.85536592e-01, 9.85825861e-01, 9.85825861e-01,\n",
              "        9.86404397e-01, 9.86404397e-01, 9.86693665e-01, 9.86693665e-01,\n",
              "        9.87272201e-01, 9.87272201e-01, 9.87561469e-01, 9.87561469e-01,\n",
              "        9.87850738e-01, 9.87850738e-01, 9.88140006e-01, 9.88140006e-01,\n",
              "        9.88429274e-01, 9.88429274e-01, 9.88718542e-01, 9.88718542e-01,\n",
              "        9.89007810e-01, 9.89007810e-01, 9.89297078e-01, 9.89297078e-01,\n",
              "        9.89586347e-01, 9.89586347e-01, 9.89875615e-01, 9.89875615e-01,\n",
              "        9.90164883e-01, 9.90164883e-01, 9.90454151e-01, 9.90454151e-01,\n",
              "        9.91321955e-01, 9.91321955e-01, 9.91611224e-01, 9.91611224e-01,\n",
              "        9.91900492e-01, 9.91900492e-01, 9.92189760e-01, 9.92189760e-01,\n",
              "        9.92479028e-01, 9.92479028e-01, 9.92768296e-01, 9.92768296e-01,\n",
              "        9.93057564e-01, 9.93057564e-01, 9.93346833e-01, 9.93346833e-01,\n",
              "        9.93636101e-01, 9.93636101e-01, 9.93925369e-01, 9.93925369e-01,\n",
              "        9.94214637e-01, 9.94214637e-01, 9.94503905e-01, 9.94503905e-01,\n",
              "        9.94793173e-01, 9.94793173e-01, 9.95082441e-01, 9.95082441e-01,\n",
              "        9.95371710e-01, 9.95371710e-01, 9.95660978e-01, 9.95660978e-01,\n",
              "        9.95950246e-01, 9.95950246e-01, 9.96239514e-01, 9.96239514e-01,\n",
              "        9.96528782e-01, 9.96528782e-01, 9.96818050e-01, 9.96818050e-01,\n",
              "        9.97107318e-01, 9.97107318e-01, 9.97396587e-01, 9.97396587e-01,\n",
              "        9.97685855e-01, 9.97685855e-01, 9.97975123e-01, 9.97975123e-01,\n",
              "        9.98264391e-01, 9.98264391e-01, 9.98553659e-01, 9.98553659e-01,\n",
              "        9.98842927e-01, 9.98842927e-01, 9.99132196e-01, 9.99132196e-01,\n",
              "        9.99421464e-01, 9.99421464e-01, 9.99710732e-01, 9.99710732e-01,\n",
              "        1.00000000e+00, 1.00000000e+00, 1.00000000e+00, 1.00000000e+00]))"
            ]
          },
          "metadata": {
            "tags": []
          },
          "execution_count": 21
        },
        {
          "output_type": "stream",
          "text": [
            "time: 6.27 ms\n"
          ],
          "name": "stdout"
        }
      ]
    }
  ]
}