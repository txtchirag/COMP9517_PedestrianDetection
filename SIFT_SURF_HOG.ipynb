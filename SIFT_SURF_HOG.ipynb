{
  "nbformat": 4,
  "nbformat_minor": 0,
  "metadata": {
    "colab": {
      "name": "SIFT_SURF_HOG.ipynb",
      "provenance": []
    },
    "kernelspec": {
      "name": "python3",
      "display_name": "Python 3"
    }
  },
  "cells": [
    {
      "cell_type": "markdown",
      "metadata": {
        "id": "HlO43_XnI_KK",
        "colab_type": "text"
      },
      "source": [
        "**Import Statements**"
      ]
    },
    {
      "cell_type": "code",
      "metadata": {
        "id": "UGUWTfDCJELJ",
        "colab_type": "code",
        "colab": {}
      },
      "source": [
        "import cv2\n",
        "import os \n",
        "#Data Manipulation\n",
        "import pandas as pd\n",
        "import numpy as np\n",
        "import math\n",
        "#Classifier\n",
        "from sklearn import svm\n",
        "from sklearn.cluster import KMeans\n",
        "#Evaluation\n",
        "from sklearn.model_selection import GridSearchCV \n",
        "from sklearn.metrics import roc_curve, auc,accuracy_score,silhouette_score,roc_auc_score\n",
        "#Data Visualisation\n",
        "import matplotlib.pyplot as plt"
      ],
      "execution_count": 0,
      "outputs": []
    },
    {
      "cell_type": "code",
      "metadata": {
        "id": "tnEJDoS-JuKC",
        "colab_type": "code",
        "colab": {}
      },
      "source": [
        "# !apt-get -qq install -y libsm6 libxext6 && pip install -q -U opencv-python==3.4.2.16\n",
        "# !apt-get -qq install -y libsm6 libxext6 && pip install -q -U opencv-contrib-python==3.4.2.16"
      ],
      "execution_count": 0,
      "outputs": []
    },
    {
      "cell_type": "markdown",
      "metadata": {
        "id": "tU4BBrBrKPi6",
        "colab_type": "text"
      },
      "source": [
        "**File Paths**"
      ]
    },
    {
      "cell_type": "code",
      "metadata": {
        "id": "LXkt2N_9KHe3",
        "colab_type": "code",
        "colab": {}
      },
      "source": [
        "train_pos_img_dir = '/content/drive/My Drive/Computer_Vision_Individual/Images/Train_Set_Positive/'\n",
        "train_neg_img_dir = '/content/drive/My Drive/Computer_Vision_Individual/Images/Train_Set_Negative/'\n",
        "test_pos_img_dir = '/content/drive/My Drive/Computer_Vision_Individual/Images/Test_Pos/'\n",
        "test_neg_img_dir = '/content/drive/My Drive/Computer_Vision_Individual/Images/Test_Neg/'\n",
        "\n",
        "print(\"Num of Positive training image :\", len(os.listdir(train_pos_img_dir)))\n",
        "print(\"Num of Negative training image :\",len(os.listdir(train_neg_img_dir)))\n",
        "print(\"Num of positive test image :\",len(os.listdir(test_pos_img_dir)))\n",
        "print(\"Num of negative test image :\",len(os.listdir(test_neg_img_dir)))"
      ],
      "execution_count": 0,
      "outputs": []
    },
    {
      "cell_type": "markdown",
      "metadata": {
        "id": "dZM4GycrKZkE",
        "colab_type": "text"
      },
      "source": [
        "**Feature Extractor Initialisation**"
      ]
    },
    {
      "cell_type": "code",
      "metadata": {
        "id": "_Gq_0jRuKZ1U",
        "colab_type": "code",
        "colab": {}
      },
      "source": [
        "winSize = (80,64)\n",
        "blockSize = (40,32)\n",
        "blockStride = (20,16)\n",
        "cellSize = (20,16)\n",
        "nbins = 9\n",
        "derivAperture = 1\n",
        "winSigma = -1.\n",
        "histogramNormType = 0\n",
        "L2HysThreshold = 0.2\n",
        "gammaCorrection = 1\n",
        "nlevels = 64\n",
        "signedGradients = True\n",
        "hog = cv2.HOGDescriptor(winSize,blockSize,blockStride,cellSize,nbins,derivAperture,winSigma,histogramNormType,L2HysThreshold,gammaCorrection,nlevels, signedGradients)\n",
        "sift = cv2.xfeatures2d.SIFT_create()\n",
        "surf = cv2.xfeatures2d.SURF_create()"
      ],
      "execution_count": 0,
      "outputs": []
    },
    {
      "cell_type": "markdown",
      "metadata": {
        "id": "hwIr-0Qg-LrR",
        "colab_type": "text"
      },
      "source": [
        "**Utility Functions**"
      ]
    },
    {
      "cell_type": "code",
      "metadata": {
        "id": "fqDMWmqE-NQ3",
        "colab_type": "code",
        "colab": {}
      },
      "source": [
        "def create_df_set(hog,sift,surf,data_category, dir_path,class_label):\n",
        "  num_img_in_dir = len(dir_path)\n",
        "  i = 0\n",
        "  dir_name = dir_path.rsplit('/', 2)[1]\n",
        "  img_files = os.listdir(dir_path)\n",
        "  for img_file in img_files :\n",
        "      img_filepath = dir_path + img_file\n",
        "      img_retrieved = cv2.imread(img_filepath,0)\n",
        "      hog_fd = hog.compute(img_retrieved)\n",
        "      sift_kp ,sift_desc = sift.detectAndCompute(img_retrieved,None)\n",
        "      surf_kp ,surf_desc = surf.detectAndCompute(img_retrieved,None)\n",
        "      name = dir_name + img_file\n",
        "      label = class_label\n",
        "      data_category = data_category.append({'name':name ,'hog':hog_fd,'sift_kp':sift_kp,'sift_desc':sift_desc,'surf_kp':surf_kp,'surf_desc':surf_desc,'label':label}, ignore_index=True)\n",
        "  data_category = data_category.sort_values(by=['name'], ascending=False)\n",
        "  data_category.fillna(0)\n",
        "  return data_category\n",
        "\n",
        "def get_feature_target(data_record,feature,target):\n",
        "  X = []\n",
        "  y = []\n",
        "  for item in data_record[feature]:\n",
        "    X.append(item)\n",
        "  X = np.array(X)\n",
        "  for item in data_record[target]:\n",
        "    y.append(item)\n",
        "  y = np.array(y)\n",
        "  n_images,rows,cols = X.shape\n",
        "  X = X.reshape((n_images,rows*cols))\n",
        "  return X,y\n",
        "\n",
        "def svc_param_selection(X, y, C_values, nfolds):\n",
        "    param_grid = {'C': C_values}\n",
        "    grid_search = GridSearchCV(svm.LinearSVC(random_state = 10 ,max_iter = 40000), param_grid, cv=nfolds)\n",
        "    grid_search.fit(X, y)\n",
        "    best_params = grid_search.best_params_\n",
        "    results = grid_search.cv_results_['mean_test_score']\n",
        "    return best_params,results\n",
        "\n",
        "def get_all_desc(data_records,feature_desc):\n",
        "  #dimension of each descriptor\n",
        "  for k in data_records[feature_desc]:\n",
        "    if k is not None:\n",
        "      desc_dim = k.shape[1] #64 for SURF, 128 for SIFT \n",
        "      break\n",
        "  print( \"Dimension of each descriptor\",desc_dim )\n",
        "  total_desc = 0\n",
        "  #Count num of desc\n",
        "  for img_desc_list in data_records[feature_desc]: #for each Image, we have descriptor list\n",
        "    if img_desc_list is not None: #If desc list is not None\n",
        "      for desc in img_desc_list:  #for each desc in desc list\n",
        "        total_desc = total_desc +1\n",
        "  print( \"Num of descriptors\",total_desc )\n",
        "  all_desc = np.zeros((total_desc,desc_dim))\n",
        "  i=0\n",
        "  for img_desc_list in data_records[feature_desc]: #for each Image, we have descriptor list\n",
        "    if img_desc_list is not None: #If desc list is not None\n",
        "      for desc in img_desc_list:  #for each desc in desc list\n",
        "        all_desc[i,:] = desc\n",
        "        i=i+1\n",
        "  all_desc = all_desc.astype('float32')\n",
        "  return all_desc\n",
        "\n",
        "def plot(x_values,y_values,x_label, y_label,x_range_value,y_range_value):\n",
        "  x = x_values\n",
        "  y = y_values\n",
        "  fig = plt.figure()\n",
        "  plt.plot(x, y)  \n",
        "  plt.xlabel(x_label) \n",
        "  plt.ylabel(y_label)\n",
        "  x_start,x_end,x_step = x_range_value\n",
        "  y_start,y_end,y_step = y_range_value\n",
        "  plt.xticks(np.arange(x_start,x_end,x_step))\n",
        "  plt.yticks(np.arange(y_start,y_end,y_step))\n",
        "  plt.grid()\n",
        "  plt.show()\n",
        "  return None\n",
        "\n",
        "def get_optimal_k_value(data_points, range_value):\n",
        "  max_score = 0 \n",
        "  k_list =[]\n",
        "  sil_score = []\n",
        "  for n_clusters in range_value:\n",
        "      clusterer = KMeans(n_clusters=n_clusters)\n",
        "      preds = clusterer.fit_predict(data_points)\n",
        "      centers = clusterer.cluster_centers_\n",
        "      score = silhouette_score(data_points, preds)\n",
        "      #print(\"For n_clusters = {}, silhouette score is {})\".format(n_clusters, score))\n",
        "      k_list.append(n_clusters)\n",
        "      sil_score.append(score)\n",
        "      if score > max_score:\n",
        "        max_score = score\n",
        "        k = n_clusters\n",
        "  plot(k_list,sil_score,\"K values\", \"Silhouette score\",(15,65,3),(0.01,0.09,0.005))\n",
        "  return k\n",
        "\n",
        "def build_histogram_train(num_cluster,train_record,label,feature_desc,desc_hist):\n",
        "  m = 0\n",
        "  for _, row in train_record.iterrows():\n",
        "      #print(index,row['name'], row['hist'])\n",
        "      histogram = np.zeros(num_cluster,dtype=np.float32)\n",
        "      if row[feature_desc] is not None:\n",
        "        for desc_item in row[feature_desc]: #for each desc in desc list\n",
        "          label_val = label[m][0]\n",
        "          histogram[label_val] = histogram[label_val] + 1\n",
        "          m = m+1\n",
        "          row[desc_hist] = histogram\n",
        "      else:\n",
        "        row[desc_hist] = np.zeros(num_cluster,dtype=np.float32)\n",
        "\n",
        "def build_histogram_test(num_cluster,test_record,feature_desc,desc_hist,knn):\n",
        "  for _, row in test_record.iterrows():\n",
        "      #print(index,row['name'], row['hist'])\n",
        "      histogram = np.zeros(num_cluster,dtype=np.float32)\n",
        "      #print(\"length\",len(row['sift_desc']))\n",
        "      if row[feature_desc] is not None:\n",
        "        ret,label,neighbours,dist = knn.findNearest(row[feature_desc],k=1)\n",
        "        #print(\"Labels\",label)\n",
        "        for p in label:\n",
        "          label_value = int(p[0])\n",
        "          histogram[label_value]= histogram[label_value] +1\n",
        "        row[desc_hist] = histogram\n",
        "      else:\n",
        "        row[desc_hist] = np.zeros(num_cluster,dtype=np.float32)\n",
        "\n",
        "def x_y_train_histogram(train_records,desc_hist,target,knn):\n",
        "  X_train= []\n",
        "  y_train = []\n",
        "  for item in train_records[desc_hist]:\n",
        "    X_train.append(item)\n",
        "  X_train = np.array(X_train)\n",
        "  for item in train_records[target]:\n",
        "    y_train.append(item)\n",
        "  y_train = np.array(y_train)\n",
        "  knn = cv2.ml.KNearest_create()\n",
        "  knn.train(X_train,cv2.ml.ROW_SAMPLE,y_train) \n",
        "  return knn       \n",
        "\n",
        "def model_prediction(model,test_records,desc_hist,target):\n",
        "  X_test = []\n",
        "  y_test = [] \n",
        "  for item in test_records[desc_hist]:\n",
        "    X_test.append(item)\n",
        "  X_test = np.array(X_test)\n",
        "  for item in test_records[target]:\n",
        "    y_test.append(item)\n",
        "  y_test = np.array(y_test)\n",
        "  # Predicting image class\n",
        "  ret,result,neighbours,dist = model.findNearest(X_test,k=1)\n",
        "  return y_test,result\n",
        "\n",
        "def roc_plot(test, pred):\n",
        "  fpr = dict()\n",
        "  tpr = dict()\n",
        "  roc_auc = dict()\n",
        "  for i in range(2):\n",
        "      fpr[i], tpr[i], _ = roc_curve(test, pred)\n",
        "      roc_auc[i] = auc(fpr[i], tpr[i])\n",
        "  #print(roc_auc_score(test, pred))\n",
        "  plt.figure()\n",
        "  plt.plot(fpr[1], tpr[1])\n",
        "  plt.xlim([0.0, 1.0])\n",
        "  plt.ylim([0.0, 1.05])\n",
        "  plt.xlabel('False Positive Rate')\n",
        "  plt.ylabel('True Positive Rate')\n",
        "  plt.title('Receiver operating characteristic')\n",
        "  plt.show()\n",
        "\n",
        "def classifier(train_data,test_data,feature_val,feature_kp_val,feature_desc_val,desc_hist_val,target_val):\n",
        "  feature = feature_val\n",
        "  feature_kp = feature_kp_val\n",
        "  feature_desc = feature_desc_val\n",
        "  desc_hist = desc_hist_val\n",
        "  target = target_val\n",
        "  #Fetch all data points (all sift descriptors of every keypoint\n",
        "  all_desc = get_all_desc(train_data.copy(),feature_desc)\n",
        "\n",
        "  #Find optimal k value for the data points\n",
        "  criteria = (cv2.TERM_CRITERIA_EPS + cv2.TERM_CRITERIA_MAX_ITER, 10, 1.0)\n",
        "  range_value = list (range(15,65,5))\n",
        "  num_cluster = get_optimal_k_value(all_desc, range_value)\n",
        "\n",
        "  #Clustering the datapoints into k cluster\n",
        "  #print(num_cluster)\n",
        "  ret,label,centers=cv2.kmeans(all_desc,num_cluster,None,criteria,4,cv2.KMEANS_RANDOM_CENTERS)\n",
        "\n",
        "  #Building the histogram of the image in the train set as per the desclist  of sift descriptor\n",
        "  build_histogram_train(num_cluster,train_data,label,feature_desc,desc_hist)\n",
        "\n",
        "  # Assigning every descriptors of desc list of a test Image to one of the clustered class\n",
        "  labels = np.linspace(0,num_cluster-1,num=num_cluster,dtype=np.int32).reshape(-1,1)\n",
        "  knn = cv2.ml.KNearest_create()\n",
        "  knn.train(centers,cv2.ml.ROW_SAMPLE,labels)\n",
        "\n",
        "  #Create histogram as per the clusters for each item in the desc_list of a test Image\n",
        "  build_histogram_test(num_cluster,test_data,feature_desc,desc_hist,knn)\n",
        "  model = x_y_train_histogram(train_data,desc_hist,target,knn)\n",
        "\n",
        "  #Prediction for Test Data\n",
        "  y_test,y_prediction = model_prediction(model,test_data,desc_hist,target)\n",
        "  print (\"Test Accuracy : \", accuracy_score(y_test, y_prediction)*100)\n",
        "  roc_plot(y_test, y_prediction)\n"
      ],
      "execution_count": 0,
      "outputs": []
    },
    {
      "cell_type": "markdown",
      "metadata": {
        "id": "6pZDI4gOKpAL",
        "colab_type": "text"
      },
      "source": [
        "**DataFrame Creation - Train and Test**"
      ]
    },
    {
      "cell_type": "code",
      "metadata": {
        "id": "z1eUmDuJ4_qd",
        "colab_type": "code",
        "colab": {}
      },
      "source": [
        "train_df = pd.DataFrame( columns = ['name','hog','sift_kp','sift_desc','sift_hist','surf_kp','surf_desc','surf_hist','label'])\n",
        "test_df = pd.DataFrame( columns = ['name','hog','sift_kp','sift_desc','sift_hist','surf_kp','surf_desc','surf_hist','label'])"
      ],
      "execution_count": 0,
      "outputs": []
    },
    {
      "cell_type": "markdown",
      "metadata": {
        "id": "jcmKOjJLelti",
        "colab_type": "text"
      },
      "source": [
        "**Data Retrieval and Storage**"
      ]
    },
    {
      "cell_type": "code",
      "metadata": {
        "id": "0RcPwkJ8_fRN",
        "colab_type": "code",
        "colab": {}
      },
      "source": [
        "#Loading training set\n",
        "train_df = create_df_set(hog,sift,surf,train_df,train_pos_img_dir,1)\n",
        "train_df = create_df_set(hog,sift,surf,train_df,train_neg_img_dir,0)\n",
        "#Loading test set\n",
        "test_df = create_df_set(hog,sift,surf,test_df,test_pos_img_dir,1)\n",
        "test_df = create_df_set(hog,sift,surf,test_df,test_neg_img_dir,0)"
      ],
      "execution_count": 0,
      "outputs": []
    },
    {
      "cell_type": "markdown",
      "metadata": {
        "id": "ECTz0034GxHZ",
        "colab_type": "text"
      },
      "source": [
        "# **SVM Classifier on Hog Feature**"
      ]
    },
    {
      "cell_type": "code",
      "metadata": {
        "id": "DonZkd8WD4sB",
        "colab_type": "code",
        "colab": {}
      },
      "source": [
        "# Get Feature and targets for Test and Train\n",
        "target_val = 'label'\n",
        "SVM_X_train,SVM_y_train = get_feature_target(train_df,'hog',target_val)\n",
        "SVM_X_test,SVM_y_test = get_feature_target(test_df,'hog',target_val)"
      ],
      "execution_count": 0,
      "outputs": []
    },
    {
      "cell_type": "code",
      "metadata": {
        "id": "oTLidVImqTUd",
        "colab_type": "code",
        "colab": {}
      },
      "source": [
        "SVM_X_train = np.nan_to_num(SVM_X_train) \n",
        "SVM_X_test = np.nan_to_num(SVM_X_test) \n",
        "svm_linear = svm.LinearSVC(random_state=10,max_iter = 15000)\n",
        "svm_linear.fit(SVM_X_train,SVM_y_train)\n",
        "SVM_test_pred = svm_linear.predict(SVM_X_test) \n",
        "print (\"Default Accuracy Test : \", accuracy_score(SVM_y_test, SVM_test_pred)*100)\n",
        "roc_plot(SVM_y_test, SVM_test_pred)"
      ],
      "execution_count": 0,
      "outputs": []
    },
    {
      "cell_type": "markdown",
      "metadata": {
        "id": "FvB23q1p8GFo",
        "colab_type": "text"
      },
      "source": [
        "**SVM Hyper-Parameter -Optimal value for C using roc_auc ranking and Cross Validation**"
      ]
    },
    {
      "cell_type": "code",
      "metadata": {
        "id": "mwy1SluQHkWB",
        "colab_type": "code",
        "colab": {}
      },
      "source": [
        "# c_values = [0.1,0.3,0.6]\n",
        "# nfolds = 10\n",
        "# best_params,roc_auc_values = svc_param_selection(SVM_X_train,SVM_y_train, c_values, nfolds)\n",
        "# print('[',end='')\n",
        "# for i in range(len(c_values)):\n",
        "#   print(c_values[i],':',roc_auc_values[i],' , ',end ='',sep='')\n",
        "# print(']')\n",
        "# best_c_value = best_params['C']\n",
        "# print(\"Best C value :\",best_c_value)"
      ],
      "execution_count": 0,
      "outputs": []
    },
    {
      "cell_type": "code",
      "metadata": {
        "id": "dP2HB-gqzxln",
        "colab_type": "code",
        "colab": {}
      },
      "source": [
        "# svm_linear = svm.LinearSVC(random_state=10,C=best_c_value,max_iter = 20000)\n",
        "# svm_linear.fit(SVM_X_train,SVM_y_train)\n",
        "# SVM_test_pred = svm_linear.predict(SVM_X_test) \n",
        "# print (\"Enhanced Accuracy Test : \", accuracy_score(SVM_y_test, SVM_test_pred)*100)\n",
        "# roc_plot(SVM_y_test, SVM_test_pred)"
      ],
      "execution_count": 0,
      "outputs": []
    },
    {
      "cell_type": "markdown",
      "metadata": {
        "id": "82ID2L7trOjr",
        "colab_type": "text"
      },
      "source": [
        "# **KNN Classifier Using SIFT feature**"
      ]
    },
    {
      "cell_type": "code",
      "metadata": {
        "id": "TJknmd7AFoZM",
        "colab_type": "code",
        "colab": {}
      },
      "source": [
        "print(\"--------------------------------------------------------------\")\n",
        "print(\"KNN CLASSIFICATION USING SIFT FEATURE\")\n",
        "print(\"--------------------------------------------------------------\")\n",
        "classifier(train_df,test_df,sift,'sift_kp','sift_desc','sift_hist','label')"
      ],
      "execution_count": 0,
      "outputs": []
    },
    {
      "cell_type": "markdown",
      "metadata": {
        "id": "9ntw4T2cmgR9",
        "colab_type": "text"
      },
      "source": [
        "# **KNN Classifier Using SURF feature**"
      ]
    },
    {
      "cell_type": "code",
      "metadata": {
        "id": "uDLy-1njmgn6",
        "colab_type": "code",
        "colab": {}
      },
      "source": [
        "print(\"--------------------------------------------------------------\")\n",
        "print(\"KNN CLASSIFICATION USING SURF FEATURE\")\n",
        "print(\"--------------------------------------------------------------\")\n",
        "classifier(train_df,test_df,surf,'surf_kp','surf_desc','surf_hist','label')"
      ],
      "execution_count": 0,
      "outputs": []
    }
  ]
}